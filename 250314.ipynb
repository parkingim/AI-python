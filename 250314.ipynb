{
  "nbformat": 4,
  "nbformat_minor": 0,
  "metadata": {
    "colab": {
      "provenance": []
    },
    "kernelspec": {
      "name": "python3",
      "display_name": "Python 3"
    },
    "language_info": {
      "name": "python"
    }
  },
  "cells": [
    {
      "cell_type": "code",
      "execution_count": 17,
      "metadata": {
        "colab": {
          "base_uri": "https://localhost:8080/"
        },
        "id": "-2Vx5_prdJzQ",
        "outputId": "42478d5a-385b-4baa-8b28-3553cb7ffb9c"
      },
      "outputs": [
        {
          "output_type": "stream",
          "name": "stdout",
          "text": [
            "반지름이5인 원의 면적은78.5398입니다\n"
          ]
        }
      ],
      "source": [
        "#반지름이 5인 원의 면적을 구하시오.\n",
        "r = 5\n",
        "pi = 3.141592\n",
        "a=r*r*pi\n",
        "print(\"반지름이\"+str(r)+\"인 원의 면적은\"+str(a)+\"입니다\")"
      ]
    },
    {
      "cell_type": "code",
      "source": [
        "#분을 시간과 분으로 변환하여 출력하시오.\n",
        "min_ver = 100\n",
        "hour =min_ver//60\n",
        "min =min_ver-60*hour\n",
        "print(str(min_ver)+\"분은\",str(hour)+\"시간\", str(min)+\"분\", \"입니다.\")"
      ],
      "metadata": {
        "colab": {
          "base_uri": "https://localhost:8080/"
        },
        "id": "59T8CmQoeT4D",
        "outputId": "33719dac-334b-44a5-9451-e510e37b5d72"
      },
      "execution_count": 14,
      "outputs": [
        {
          "output_type": "stream",
          "name": "stdout",
          "text": [
            "100분은 1시간 40분 입니다.\n"
          ]
        }
      ]
    }
  ]
}