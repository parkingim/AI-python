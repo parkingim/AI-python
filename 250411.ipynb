{
 "cells": [
  {
   "cell_type": "code",
   "execution_count": 1,
   "id": "0b81c0f4-2582-4c79-8156-057492d9a144",
   "metadata": {},
   "outputs": [
    {
     "name": "stdout",
     "output_type": "stream",
     "text": [
      "남자\n"
     ]
    }
   ],
   "source": [
    "i= '250411-3456789'\n",
    "\n",
    "if i[7] == '3':\n",
    "    print('남자')\n",
    "else:\n",
    "    print('여자')\n"
   ]
  },
  {
   "cell_type": "code",
   "execution_count": 2,
   "id": "0a6f68a4-1306-4120-b765-565ef1626fd9",
   "metadata": {},
   "outputs": [
    {
     "name": "stdin",
     "output_type": "stream",
     "text": [
      "문자열 aba\n"
     ]
    },
    {
     "name": "stdout",
     "output_type": "stream",
     "text": [
      "회문\n"
     ]
    }
   ],
   "source": [
    "s1 = input('문자열')\n",
    "s2 = ''\n",
    "\n",
    "for i in range(len(s1)-1,-1,-1):\n",
    "    s2=s2+s1[i]\n",
    "\n",
    "if s1 == s2:\n",
    "    print('회문')\n",
    "else:\n",
    "    print('회문아님')"
   ]
  },
  {
   "cell_type": "code",
   "execution_count": 4,
   "id": "9703ceca-9ff1-4399-85b6-ad1a231f3f3b",
   "metadata": {},
   "outputs": [
    {
     "name": "stdout",
     "output_type": "stream",
     "text": [
      "['부산', ' 대구', ' 창원']\n"
     ]
    }
   ],
   "source": [
    "s = '부산, 대구, 창원'\n",
    "print(s.split(','))"
   ]
  },
  {
   "cell_type": "code",
   "execution_count": 6,
   "id": "36c4a30d-2884-478e-ad6e-d078aacd562b",
   "metadata": {},
   "outputs": [
    {
     "name": "stdout",
     "output_type": "stream",
     "text": [
      "손오공,베지터\n"
     ]
    }
   ],
   "source": [
    "s = '손오공', '베지터'\n",
    "print(','.join(s))"
   ]
  },
  {
   "cell_type": "code",
   "execution_count": 7,
   "id": "24b21d86-5663-4108-9da4-37153c28080d",
   "metadata": {},
   "outputs": [
    {
     "name": "stdout",
     "output_type": "stream",
     "text": [
      "False\n"
     ]
    }
   ],
   "source": [
    "s = '1234kg'\n",
    "print(s.isdigit())"
   ]
  },
  {
   "cell_type": "code",
   "execution_count": 8,
   "id": "b8643e1d-cd31-45f3-8b98-07f42f52725a",
   "metadata": {},
   "outputs": [
    {
     "name": "stdout",
     "output_type": "stream",
     "text": [
      "True\n"
     ]
    }
   ],
   "source": [
    "s = '1234'\n",
    "print(s.isdigit())"
   ]
  },
  {
   "cell_type": "code",
   "execution_count": 9,
   "id": "b1a8c9ce-0dd9-419b-a6b5-ee69c7d9fd7b",
   "metadata": {},
   "outputs": [
    {
     "name": "stdout",
     "output_type": "stream",
     "text": [
      "True\n"
     ]
    }
   ],
   "source": [
    "s = 'python'\n",
    "print(s.islower())"
   ]
  },
  {
   "cell_type": "code",
   "execution_count": 10,
   "id": "b2406748-dd15-4f7a-a31f-8db5d4633ad3",
   "metadata": {},
   "outputs": [
    {
     "name": "stdin",
     "output_type": "stream",
     "text": [
      "아이디:  as12\n"
     ]
    },
    {
     "name": "stdout",
     "output_type": "stream",
     "text": [
      "길이가 짧습니다\n"
     ]
    },
    {
     "name": "stdin",
     "output_type": "stream",
     "text": [
      "아이디:  asd12\n"
     ]
    },
    {
     "name": "stdout",
     "output_type": "stream",
     "text": [
      "아이디는 asd12입니다.\n"
     ]
    }
   ],
   "source": [
    "while True:\n",
    "    id = input('아이디: ')\n",
    "    if len(id)<5:\n",
    "        print('길이가 짧습니다')\n",
    "    elif id.isalnum()!=True:\n",
    "        print('아이디는 알파벳과 숫자로 이루어져야 합니다.')\n",
    "    else:\n",
    "        break\n",
    "print(f'아이디는 {id}입니다.')\n",
    "        "
   ]
  },
  {
   "cell_type": "code",
   "execution_count": null,
   "id": "3fdd5dfc-d89c-476f-991f-31672b148982",
   "metadata": {},
   "outputs": [],
   "source": []
  }
 ],
 "metadata": {
  "kernelspec": {
   "display_name": "Python 3 (ipykernel)",
   "language": "python",
   "name": "python3"
  },
  "language_info": {
   "codemirror_mode": {
    "name": "ipython",
    "version": 3
   },
   "file_extension": ".py",
   "mimetype": "text/x-python",
   "name": "python",
   "nbconvert_exporter": "python",
   "pygments_lexer": "ipython3",
   "version": "3.12.6"
  }
 },
 "nbformat": 4,
 "nbformat_minor": 5
}
