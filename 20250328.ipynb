{
  "nbformat": 4,
  "nbformat_minor": 0,
  "metadata": {
    "colab": {
      "provenance": [],
      "authorship_tag": "ABX9TyNSwjsmEf8fTNcdGmAcu8zN",
      "include_colab_link": true
    },
    "kernelspec": {
      "name": "python3",
      "display_name": "Python 3"
    },
    "language_info": {
      "name": "python"
    }
  },
  "cells": [
    {
      "cell_type": "markdown",
      "metadata": {
        "id": "view-in-github",
        "colab_type": "text"
      },
      "source": [
        "<a href=\"https://colab.research.google.com/github/parkingim/AI-python/blob/main/20250328.ipynb\" target=\"_parent\"><img src=\"https://colab.research.google.com/assets/colab-badge.svg\" alt=\"Open In Colab\"/></a>"
      ]
    },
    {
      "cell_type": "code",
      "execution_count": 1,
      "metadata": {
        "colab": {
          "base_uri": "https://localhost:8080/"
        },
        "id": "bEWRAioSUbNy",
        "outputId": "bff240a2-b754-4bd4-e29b-92bf3eeb7271"
      },
      "outputs": [
        {
          "name": "stdout",
          "output_type": "stream",
          "text": [
            "첫 번째 정수를 입력하세요:21\n",
            "두 번째 정수를 입력하세요:12\n"
          ]
        }
      ],
      "source": [
        "num1_str = input(\"첫 번째 정수를 입력하세요:\")\n",
        "num2_str = input(\"두 번째 정수를 입력하세요:\")"
      ]
    },
    {
      "cell_type": "code",
      "source": [
        "num1 = int(num1_str)\n",
        "num2 = int(num2_str)\n",
        "if num1 > num2:\n",
        "  print(\"{num1}은 {num2}보다 큽니다.\")\n",
        "elif num1 < num2:\n",
        "  print(\"{num2}는 {num1}보다 큽니다.\")\n",
        "else:\n",
        "  print(\"{num2}과 {num1}은 같습니다.\")"
      ],
      "metadata": {
        "colab": {
          "base_uri": "https://localhost:8080/"
        },
        "id": "RM858-0EXGq9",
        "outputId": "283409a3-842a-4b63-d255-a06af217bde2"
      },
      "execution_count": 2,
      "outputs": [
        {
          "output_type": "stream",
          "name": "stdout",
          "text": [
            "{num1}은 {num2}보다 큽니다.\n"
          ]
        }
      ]
    },
    {
      "cell_type": "code",
      "source": [
        "num1_str = input(\"첫 번째 정수를 입력하세요:\")\n",
        "num2_str = input(\"두 번째 정수를 입력하세요:\")\n",
        "num3_str = input(\"세 번째 정수를 입력하세요:\")"
      ],
      "metadata": {
        "colab": {
          "base_uri": "https://localhost:8080/"
        },
        "id": "KK8MOJlcYn7s",
        "outputId": "8c1d50f9-68ae-4bfd-e452-37d98c4615c3"
      },
      "execution_count": 3,
      "outputs": [
        {
          "name": "stdout",
          "output_type": "stream",
          "text": [
            "첫 번째 정수를 입력하세요:1\n",
            "두 번째 정수를 입력하세요:2\n",
            "세 번째 정수를 입력하세요:3\n"
          ]
        }
      ]
    },
    {
      "cell_type": "code",
      "source": [
        "num1 = int(num1_str)\n",
        "num2 = int(num2_str)\n",
        "num3 = int(num3_str)\n",
        "\n",
        "max_num = num1\n",
        "if num2 > max_num:\n",
        "  print(\"{num2}가 현재 최대값{max_num}보다 큽니다. 최댓값을 업데이트합니다.\")\n",
        "  max_num = num2\n",
        "else:\n",
        "  print(\"{num2}는 현재 최대값보다 크지 않습니다\")\n",
        "\n",
        "if num3 > max_num:\n",
        "  print(\"{num3}가 현재 최대값{max_num}보다 큽니다. 최댓값을 업데이트합니다.\")\n",
        "  max_num = num3\n",
        "else:\n",
        "  print(\"{num3}은 현재 최대값보다 크지 않습니다\")\n",
        "\n",
        "print(f\"입력하신 세 수 {num1}, {num2}, {num3} 중에서 가장 큰 수는 {max_num}입니다 \")"
      ],
      "metadata": {
        "colab": {
          "base_uri": "https://localhost:8080/"
        },
        "id": "WYS-m37zYsoc",
        "outputId": "ae419774-5fc2-4536-cff6-78c6a3a4c07e"
      },
      "execution_count": 23,
      "outputs": [
        {
          "output_type": "stream",
          "name": "stdout",
          "text": [
            "{num2}가 현재 최대값{max_num}보다 큽니다. 최댓값을 업데이트합니다.\n",
            "{num3}가 현재 최대값{max_num}보다 큽니다. 최댓값을 업데이트합니다.\n",
            "입력하신 세 수 1, 2, 3 중에서 가장 큰 수는 3입니다 \n"
          ]
        }
      ]
    },
    {
      "cell_type": "code",
      "source": [
        "score_str = input(\"점수를 입력하세요:\")\n",
        "score = int(score_str)\n",
        "\n"
      ],
      "metadata": {
        "colab": {
          "base_uri": "https://localhost:8080/"
        },
        "id": "kr6nWfu7c5Wc",
        "outputId": "ccf8ca55-9700-44f8-cbd0-2cd3880b8d10"
      },
      "execution_count": 47,
      "outputs": [
        {
          "name": "stdout",
          "output_type": "stream",
          "text": [
            "점수를 입력하세요:76\n"
          ]
        }
      ]
    },
    {
      "cell_type": "code",
      "source": [
        "if 0 <= score <= 100:\n",
        "  if score >= 90:\n",
        "    grade ='A'\n",
        "  elif 90 > score >= 80:\n",
        "    grade ='B'\n",
        "  elif 80 > score >= 70:\n",
        "    grade ='C'\n",
        "  elif 70 > score >= 60:\n",
        "    grade ='D'\n",
        "  else:\n",
        "    grade ='F'\n",
        "  print(f\"당신의 학점은 {grade}입니다.\")\n",
        "else:\n",
        "  print(\"점수는 0점에서 100점 사이의 값이어야 합니다.\")"
      ],
      "metadata": {
        "colab": {
          "base_uri": "https://localhost:8080/"
        },
        "id": "k02kssUqd0UE",
        "outputId": "88c966ad-5dc3-4268-c9c5-8522af605b31"
      },
      "execution_count": 52,
      "outputs": [
        {
          "output_type": "stream",
          "name": "stdout",
          "text": [
            "당신의 학점은 C입니다.\n"
          ]
        }
      ]
    },
    {
      "cell_type": "code",
      "source": [
        "year_str = input(\"연도를 입력하세요: \")\n",
        "year = int(year_str)\n"
      ],
      "metadata": {
        "colab": {
          "base_uri": "https://localhost:8080/"
        },
        "id": "CMPX2V7bgSbs",
        "outputId": "2051099b-20b3-46a4-a397-96b89b790775"
      },
      "execution_count": 60,
      "outputs": [
        {
          "name": "stdout",
          "output_type": "stream",
          "text": [
            "연도를 입력하세요: 1996\n"
          ]
        }
      ]
    },
    {
      "cell_type": "code",
      "source": [
        "if (year % 4 == 0 and year % 100 != 0) or (year % 400 == 0):\n",
        "  print(f\"{year}년은 윤년입니다.\")\n",
        "else:\n",
        "  print(f\"{year}년은 윤년이 아닙니다.\")"
      ],
      "metadata": {
        "colab": {
          "base_uri": "https://localhost:8080/"
        },
        "id": "CRHFiyoZgd7T",
        "outputId": "c3c59f3e-ea68-47cd-ab5e-d5f4a34b0cc1"
      },
      "execution_count": 61,
      "outputs": [
        {
          "output_type": "stream",
          "name": "stdout",
          "text": [
            "1996년은 윤년입니다.\n"
          ]
        }
      ]
    },
    {
      "cell_type": "code",
      "source": [
        "for i in range(1,6): # 1~5까지 반복\n",
        " print(\"반복!\", i)\n"
      ],
      "metadata": {
        "colab": {
          "base_uri": "https://localhost:8080/"
        },
        "id": "Gv8FsbWElIgE",
        "outputId": "c6afdd25-e5fa-4c44-bfe7-54824f807f8f"
      },
      "execution_count": 68,
      "outputs": [
        {
          "output_type": "stream",
          "name": "stdout",
          "text": [
            "반복! 1\n",
            "반복! 2\n",
            "반복! 3\n",
            "반복! 4\n",
            "반복! 5\n"
          ]
        }
      ]
    },
    {
      "cell_type": "code",
      "source": [
        "for i in[ 'A','B',3,4,5]:\n",
        "    print(\"반복!\",i)"
      ],
      "metadata": {
        "colab": {
          "base_uri": "https://localhost:8080/"
        },
        "id": "APqYpFPKmyRT",
        "outputId": "e7915d1b-152a-40fc-dd35-738533ee55f7"
      },
      "execution_count": 71,
      "outputs": [
        {
          "output_type": "stream",
          "name": "stdout",
          "text": [
            "반복! A\n",
            "반복! B\n",
            "반복! 3\n",
            "반복! 4\n",
            "반복! 5\n"
          ]
        }
      ]
    },
    {
      "cell_type": "code",
      "source": [
        "count = 0\n",
        "while count < 3:\n",
        "  print(\"반복 중:\",count)\n",
        "  count+= 1 #하나씩 증가"
      ],
      "metadata": {
        "colab": {
          "base_uri": "https://localhost:8080/"
        },
        "id": "Qpw5cl0WnYhL",
        "outputId": "781407a9-fd98-43c8-8f0e-3ee6f2c4a69a"
      },
      "execution_count": 72,
      "outputs": [
        {
          "output_type": "stream",
          "name": "stdout",
          "text": [
            "반복 중: 0\n",
            "반복 중: 1\n",
            "반복 중: 2\n"
          ]
        }
      ]
    },
    {
      "cell_type": "markdown",
      "source": [],
      "metadata": {
        "id": "LSOs7-wVYni0"
      }
    },
    {
      "cell_type": "code",
      "source": [
        "n_str = input(\"양의 정수 N를 입력하세요:\")\n"
      ],
      "metadata": {
        "colab": {
          "base_uri": "https://localhost:8080/"
        },
        "id": "d53d-lfwourD",
        "outputId": "ed155999-d2e6-4961-8628-6988b6de07f2"
      },
      "execution_count": 77,
      "outputs": [
        {
          "name": "stdout",
          "output_type": "stream",
          "text": [
            "양의 정수 N를 입력하세요:11\n"
          ]
        }
      ]
    },
    {
      "cell_type": "code",
      "source": [
        "N = int(n_str)\n",
        "if N <= 0:\n",
        " print(\"N은 양의 정수여야 합니다\")\n",
        "else:\n",
        "  total = 0\n",
        "  for i in range(1,N+1):\n",
        "    total+=i\n",
        "print(f\"1부터 {N}까지의 합은: {total}입니다.\")"
      ],
      "metadata": {
        "colab": {
          "base_uri": "https://localhost:8080/"
        },
        "id": "XTaHo3NWpJFb",
        "outputId": "277fdd0d-9735-4bc6-8158-d09c577869ad"
      },
      "execution_count": 79,
      "outputs": [
        {
          "output_type": "stream",
          "name": "stdout",
          "text": [
            "1부터 11까지의 합은: 66입니다.\n"
          ]
        }
      ]
    },
    {
      "cell_type": "code",
      "source": [
        "# 문제 4: 특정 조건까지 반복하기 (while 루프)\n",
        "count = 0\n",
        "print(\"0부터 9까지 출력:\")\n",
        "\n",
        "while count < 10:\n",
        " print(count)\n",
        " count += 1\n",
        "print(\"while 루프 종료\")"
      ],
      "metadata": {
        "colab": {
          "base_uri": "https://localhost:8080/"
        },
        "id": "n_Wo66ODsGoL",
        "outputId": "49b6a250-49fa-4a75-b2de-0b1e967cc9bd"
      },
      "execution_count": 85,
      "outputs": [
        {
          "output_type": "stream",
          "name": "stdout",
          "text": [
            "0부터 9까지 출력:\n",
            "0\n",
            "1\n",
            "2\n",
            "3\n",
            "4\n",
            "5\n",
            "6\n",
            "7\n",
            "8\n",
            "9\n",
            "while 루프 종료\n"
          ]
        }
      ]
    },
    {
      "cell_type": "code",
      "source": [
        "count = 0\n",
        "print(\"0부터 9까지 출력:\")\n",
        "\n",
        "for i in range(10):\n",
        " print(count)\n",
        " count+=1\n",
        "print(\"for루프 종료\")"
      ],
      "metadata": {
        "colab": {
          "base_uri": "https://localhost:8080/"
        },
        "id": "S-QlzU9jsnnq",
        "outputId": "17fa3c6d-e94c-4b81-c23a-c3811f31010a"
      },
      "execution_count": 90,
      "outputs": [
        {
          "output_type": "stream",
          "name": "stdout",
          "text": [
            "0부터 9까지 출력:\n",
            "0\n",
            "1\n",
            "2\n",
            "3\n",
            "4\n",
            "5\n",
            "6\n",
            "7\n",
            "8\n",
            "9\n",
            "for루프 종료\n"
          ]
        }
      ]
    }
  ]
}