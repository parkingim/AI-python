{
 "cells": [
  {
   "cell_type": "code",
   "execution_count": 1,
   "id": "36043375-b9f6-4f42-8b29-a5b4cb01fd56",
   "metadata": {},
   "outputs": [
    {
     "name": "stdin",
     "output_type": "stream",
     "text": [
      "나이를 입력하세요: 5\n"
     ]
    },
    {
     "name": "stdout",
     "output_type": "stream",
     "text": [
      "당신은 내년에 6 살입니다.\n"
     ]
    }
   ],
   "source": [
    "age=input(\"나이를 입력하세요:\")\n",
    "age=int(age)\n",
    "print(\"당신은 내년에\",age+1,\"살입니다.\")"
   ]
  },
  {
   "cell_type": "code",
   "execution_count": 2,
   "id": "8ecabf55-3a4b-482c-9989-985a0c588c4d",
   "metadata": {},
   "outputs": [
    {
     "name": "stdin",
     "output_type": "stream",
     "text": [
      "나이를 입력하세요: 2\n"
     ]
    },
    {
     "name": "stdout",
     "output_type": "stream",
     "text": [
      "당신은 내년에 3 살입니다.\n"
     ]
    }
   ],
   "source": [
    "age=input(\"나이를 입력하세요:\")\n",
    "age=int(age)\n",
    "age=age+1\n",
    "print(\"당신은 내년에\",age,\"살입니다.\")\n",
    "#구성으로만 보면 출력에다가 연산을 쓰진 않기 때문에 두번째 방식이 조금 더 표준적임\n"
   ]
  },
  {
   "cell_type": "code",
   "execution_count": 3,
   "id": "e9214b39-80aa-4865-b063-d3ea2715bf1e",
   "metadata": {},
   "outputs": [
    {
     "name": "stdin",
     "output_type": "stream",
     "text": [
      "나이를 입력하세요: 12\n"
     ]
    },
    {
     "ename": "TypeError",
     "evalue": "can only concatenate str (not \"int\") to str",
     "output_type": "error",
     "traceback": [
      "\u001b[0;31m---------------------------------------------------------------------------\u001b[0m",
      "\u001b[0;31mTypeError\u001b[0m                                 Traceback (most recent call last)",
      "Cell \u001b[0;32mIn[3], line 3\u001b[0m\n\u001b[1;32m      1\u001b[0m age\u001b[38;5;241m=\u001b[39m\u001b[38;5;28minput\u001b[39m(\u001b[38;5;124m\"\u001b[39m\u001b[38;5;124m나이를 입력하세요:\u001b[39m\u001b[38;5;124m\"\u001b[39m)\n\u001b[1;32m      2\u001b[0m \u001b[38;5;66;03m#age=int(age)\u001b[39;00m\n\u001b[0;32m----> 3\u001b[0m \u001b[38;5;28mprint\u001b[39m(\u001b[38;5;124m\"\u001b[39m\u001b[38;5;124m당신은 내년에\u001b[39m\u001b[38;5;124m\"\u001b[39m,\u001b[43mage\u001b[49m\u001b[38;5;241;43m+\u001b[39;49m\u001b[38;5;241;43m1\u001b[39;49m,\u001b[38;5;124m\"\u001b[39m\u001b[38;5;124m살입니다.\u001b[39m\u001b[38;5;124m\"\u001b[39m)\n\u001b[1;32m      4\u001b[0m \u001b[38;5;66;03m#오류가 난 이유=자료형에서 문제가 생김. 숫자연산을 하고 싶은데 문자+숫자 연산을 했기 때문에 type error가 남. age+1은 문자(age)와 숫자(1)로 이루어져 있어서 age를 int형으로 바꿔줘야 함\u001b[39;00m\n",
      "\u001b[0;31mTypeError\u001b[0m: can only concatenate str (not \"int\") to str"
     ]
    }
   ],
   "source": [
    "age=input(\"나이를 입력하세요:\")\n",
    "#age=int(age)\n",
    "print(\"당신은 내년에\",age+1,\"살입니다.\")\n",
    "#오류가 난 이유=자료형에서 문제가 생김. 숫자연산을 하고 싶은데 문자+숫자 연산을 했기 때문에 type error가 남. age+1은 문자(age)와 숫자(1)로 이루어져 있어서 age를 int형으로 바꿔줘야 함"
   ]
  },
  {
   "cell_type": "code",
   "execution_count": 4,
   "id": "c29f90d2-d978-4929-8e08-8800ffe72da2",
   "metadata": {},
   "outputs": [
    {
     "name": "stdin",
     "output_type": "stream",
     "text": [
      "나이를 입력하세요: 70\n"
     ]
    },
    {
     "name": "stdout",
     "output_type": "stream",
     "text": [
      "당신은 내년에 71 살입니다.\n"
     ]
    }
   ],
   "source": [
    "age=int(input(\"나이를 입력하세요:\"))\n",
    "print(\"당신은 내년에\",age+1,\"살입니다.\")\n",
    "#아예 처음부터 int적용"
   ]
  },
  {
   "cell_type": "code",
   "execution_count": 5,
   "id": "f9bc9952-137d-42c9-aa3e-8698fbbc28c2",
   "metadata": {},
   "outputs": [
    {
     "name": "stdin",
     "output_type": "stream",
     "text": [
      "나이를 입력하세요: 20\n"
     ]
    },
    {
     "name": "stdout",
     "output_type": "stream",
     "text": [
      "당신은 내년에 21.0 살입니다.\n"
     ]
    }
   ],
   "source": [
    "age=float(input(\"나이를 입력하세요:\"))\n",
    "print(\"당신은 내년에\",age+1,\"살입니다.\")\n",
    "#float를 적용하면 실수로 출력"
   ]
  },
  {
   "cell_type": "code",
   "execution_count": 6,
   "id": "35948eee-1fdd-4228-acde-add7b024bd67",
   "metadata": {},
   "outputs": [
    {
     "name": "stdin",
     "output_type": "stream",
     "text": [
      "나이를 입력하세요: 12212\n"
     ]
    },
    {
     "ename": "TypeError",
     "evalue": "unsupported operand type(s) for +: 'int' and 'str'",
     "output_type": "error",
     "traceback": [
      "\u001b[0;31m---------------------------------------------------------------------------\u001b[0m",
      "\u001b[0;31mTypeError\u001b[0m                                 Traceback (most recent call last)",
      "Cell \u001b[0;32mIn[6], line 2\u001b[0m\n\u001b[1;32m      1\u001b[0m age\u001b[38;5;241m=\u001b[39m\u001b[38;5;28mint\u001b[39m(\u001b[38;5;28minput\u001b[39m(\u001b[38;5;124m\"\u001b[39m\u001b[38;5;124m나이를 입력하세요:\u001b[39m\u001b[38;5;124m\"\u001b[39m))\n\u001b[0;32m----> 2\u001b[0m \u001b[38;5;28mprint\u001b[39m(\u001b[43mage\u001b[49m\u001b[38;5;241;43m+\u001b[39;49m\u001b[38;5;124;43m\"\u001b[39;49m\u001b[38;5;124;43m살입니다.\u001b[39;49m\u001b[38;5;124;43m\"\u001b[39;49m)\n\u001b[1;32m      3\u001b[0m \u001b[38;5;66;03m#+를 연결이 아닌 연산으로 인식햇기 때문에 에러가 남. 그러나 ,는 연결로 인식.\u001b[39;00m\n",
      "\u001b[0;31mTypeError\u001b[0m: unsupported operand type(s) for +: 'int' and 'str'"
     ]
    }
   ],
   "source": [
    "age=int(input(\"나이를 입력하세요:\"))\n",
    "print(age+\"살입니다.\")\n",
    "#+를 연결이 아닌 연산으로 인식햇기 때문에 에러가 남. 그러나 ,는 연결로 인식."
   ]
  },
  {
   "cell_type": "code",
   "execution_count": 7,
   "id": "22ac4197-b835-4007-9e5c-50f051c2991d",
   "metadata": {},
   "outputs": [
    {
     "name": "stdin",
     "output_type": "stream",
     "text": [
      "나이를 입력하세요: 123\n"
     ]
    },
    {
     "name": "stdout",
     "output_type": "stream",
     "text": [
      "123살입니다.\n"
     ]
    }
   ],
   "source": [
    "age=int(input(\"나이를 입력하세요:\"))\n",
    "print(str(age)+\"살입니다.\")\n",
    "#age를 str을 통해 문자로 처리"
   ]
  },
  {
   "cell_type": "code",
   "execution_count": 8,
   "id": "cde29491-dd35-4e00-a735-caf9f790da4f",
   "metadata": {},
   "outputs": [
    {
     "name": "stdout",
     "output_type": "stream",
     "text": [
      "정말 잘했어요!\n"
     ]
    }
   ],
   "source": [
    "score = 99\n",
    "if score >= 90:\n",
    "    print(\"정말 잘했어요!\")\n",
    "elif score >=60:\n",
    "    print(\"좋아요 합격입니다!\")\n",
    "else:\n",
    "    print(\"다음에 더 잘해봐요!\")"
   ]
  },
  {
   "cell_type": "code",
   "execution_count": 9,
   "id": "f3e28447-079b-4ea7-b88d-2fd1260b4eae",
   "metadata": {},
   "outputs": [
    {
     "name": "stdout",
     "output_type": "stream",
     "text": [
      "음수입니다!\n"
     ]
    }
   ],
   "source": [
    "# 입력한 숫자의 양수, 음수 판단\n",
    "score = -55\n",
    "if score > 0:\n",
    "    print(\"양수입니다!\")\n",
    "elif score <0:\n",
    "    print(\"음수입니다!\")\n",
    "else:\n",
    "    print(\"0 입니다!\")"
   ]
  },
  {
   "cell_type": "code",
   "execution_count": 10,
   "id": "2ca31789-23fd-47e0-b8ba-734cff57432c",
   "metadata": {},
   "outputs": [
    {
     "name": "stdin",
     "output_type": "stream",
     "text": [
      "숫자를 입력하세요 1111\n"
     ]
    },
    {
     "name": "stdout",
     "output_type": "stream",
     "text": [
      "양수입니다\n"
     ]
    }
   ],
   "source": [
    "# 입력한 숫자의 양수, 음수 판단\n",
    "num=int(input(\"숫자를 입력하세요\"))\n",
    "if num > 0:\n",
    "     print(\"양수입니다\")\n",
    "elif num < 0:\n",
    "     print(\"음수입니다\")\n",
    "else:\n",
    "     print(\"0입니다\")"
   ]
  },
  {
   "cell_type": "code",
   "execution_count": 11,
   "id": "e7e6d831-c475-46af-85b2-94f0ea1ded5c",
   "metadata": {},
   "outputs": [
    {
     "name": "stdin",
     "output_type": "stream",
     "text": [
      "숫자를 입력하세요 999\n"
     ]
    },
    {
     "name": "stdout",
     "output_type": "stream",
     "text": [
      "홀수입니다\n"
     ]
    }
   ],
   "source": [
    "# 입력한 숫자의 짝수, 홀수 판단\n",
    "num=int(input(\"숫자를 입력하세요\"))\n",
    "if num%2==0:\n",
    "     print(\"짝수입니다\")\n",
    "elif num%2!=0:\n",
    "     print(\"홀수입니다\")\n"
   ]
  },
  {
   "cell_type": "code",
   "execution_count": 50,
   "id": "96809ed0-1e79-43a9-81f2-76030fd86549",
   "metadata": {},
   "outputs": [
    {
     "name": "stdin",
     "output_type": "stream",
     "text": [
      " 4 4\n"
     ]
    },
    {
     "name": "stdout",
     "output_type": "stream",
     "text": [
      "무승부\n",
      "잘못된 입력\n"
     ]
    }
   ],
   "source": [
    "a,b=map(int,input().split())\n",
    "if a==b:\n",
    "    print(\"무승부\")\n",
    "if (a==1 and b==3) or (a==1 and b==2) or (a==2 and b==3):\n",
    "    print(\"B승A패\")\n",
    "if (b==1 and a==3) or (b==1 and a==2) or (b==2 and a==3):\n",
    "    print(\"A승B패\")\n",
    "if a > 3 or b > 3:\n",
    "    print(\"잘못된 입력\")"
   ]
  },
  {
   "cell_type": "code",
   "execution_count": 54,
   "id": "b7326186-d4fb-44e9-9264-2666091fa90b",
   "metadata": {},
   "outputs": [
    {
     "name": "stdin",
     "output_type": "stream",
     "text": [
      " 4 4\n"
     ]
    },
    {
     "name": "stdout",
     "output_type": "stream",
     "text": [
      "잘못된입력\n"
     ]
    }
   ],
   "source": [
    "a, b = map(int, input().split())\n",
    "    \n",
    "if a > 3 or b > 3:\n",
    "    print(\"잘못된입력\")\n",
    "elif a == b:\n",
    "    print(\"무승부\")\n",
    "elif (a == 1 and b == 3) or (a == 2 and b== 1) or (a == 3 and b == 2):\n",
    "    print(\"A승B패\")\n",
    "else:\n",
    "    print(\"B승A패\")"
   ]
  },
  {
   "cell_type": "code",
   "execution_count": 26,
   "id": "b15033f3-4951-449e-a915-b06b6d702b3c",
   "metadata": {},
   "outputs": [
    {
     "data": {
      "text/plain": [
       "'A'"
      ]
     },
     "execution_count": 26,
     "metadata": {},
     "output_type": "execute_result"
    }
   ],
   "source": [
    "a"
   ]
  },
  {
   "cell_type": "code",
   "execution_count": 27,
   "id": "df80f1d0-2102-4a7c-9981-8b2638e2fc71",
   "metadata": {},
   "outputs": [
    {
     "data": {
      "text/plain": [
       "'B'"
      ]
     },
     "execution_count": 27,
     "metadata": {},
     "output_type": "execute_result"
    }
   ],
   "source": [
    "b"
   ]
  },
  {
   "cell_type": "code",
   "execution_count": null,
   "id": "f1fd68e1-f483-46fc-b472-6744cca72c36",
   "metadata": {},
   "outputs": [],
   "source": []
  },
  {
   "cell_type": "code",
   "execution_count": null,
   "id": "eacdc90f-e616-45f4-824c-f6731ececc64",
   "metadata": {},
   "outputs": [],
   "source": []
  }
 ],
 "metadata": {
  "kernelspec": {
   "display_name": "Python 3 (ipykernel)",
   "language": "python",
   "name": "python3"
  },
  "language_info": {
   "codemirror_mode": {
    "name": "ipython",
    "version": 3
   },
   "file_extension": ".py",
   "mimetype": "text/x-python",
   "name": "python",
   "nbconvert_exporter": "python",
   "pygments_lexer": "ipython3",
   "version": "3.12.6"
  }
 },
 "nbformat": 4,
 "nbformat_minor": 5
}
