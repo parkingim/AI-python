{
 "cells": [
  {
   "cell_type": "code",
   "execution_count": 13,
   "id": "a64510cf-352e-401c-a7e9-bd06eb9511aa",
   "metadata": {},
   "outputs": [
    {
     "name": "stdin",
     "output_type": "stream",
     "text": [
      "온도 종류(섭씨 또는 화씨): 화씨\n"
     ]
    }
   ],
   "source": [
    "kind = input('온도 종류(섭씨 또는 화씨):')"
   ]
  },
  {
   "cell_type": "code",
   "execution_count": 14,
   "id": "067de4aa-3737-4541-9891-46a08a25b9e1",
   "metadata": {},
   "outputs": [
    {
     "name": "stdin",
     "output_type": "stream",
     "text": [
      "화씨온도: 111\n"
     ]
    }
   ],
   "source": [
    "temp =int(input(kind+'온도:'))"
   ]
  },
  {
   "cell_type": "code",
   "execution_count": null,
   "id": "49f19e4d-7be6-45c1-85a3-7640fb3048d9",
   "metadata": {},
   "outputs": [],
   "source": []
  },
  {
   "cell_type": "code",
   "execution_count": 24,
   "id": "5d269e35-3f98-4140-8891-da1db9a7661c",
   "metadata": {},
   "outputs": [
    {
     "name": "stdout",
     "output_type": "stream",
     "text": [
      "섭씨 온도:43.888888888888886\n"
     ]
    }
   ],
   "source": [
    "if kind == '섭씨':\n",
    " print(f'화씨 온도:{temp+9/5+32}')\n",
    "else:\n",
    "    print(f'섭씨 온도:{(temp-32)*5/9}')"
   ]
  },
  {
   "cell_type": "code",
   "execution_count": 29,
   "id": "332d40da-2d2c-4124-ac20-01669045940f",
   "metadata": {},
   "outputs": [
    {
     "name": "stdout",
     "output_type": "stream",
     "text": [
      "1부터 100까지의 수 하나를 정했습니다.\n",
      "이 숫자를 맞혀보세요.\n"
     ]
    },
    {
     "name": "stdin",
     "output_type": "stream",
     "text": [
      "1-100 숫자 입력: 20\n"
     ]
    },
    {
     "name": "stdout",
     "output_type": "stream",
     "text": [
      "20보다 큽니다.\n"
     ]
    },
    {
     "name": "stdin",
     "output_type": "stream",
     "text": [
      "1-100 숫자 입력: 40\n"
     ]
    },
    {
     "name": "stdout",
     "output_type": "stream",
     "text": [
      "40보다 작습니다.\n"
     ]
    },
    {
     "name": "stdin",
     "output_type": "stream",
     "text": [
      "1-100 숫자 입력: 30\n"
     ]
    },
    {
     "name": "stdout",
     "output_type": "stream",
     "text": [
      "30보다 작습니다.\n"
     ]
    },
    {
     "name": "stdin",
     "output_type": "stream",
     "text": [
      "1-100 숫자 입력: 25\n"
     ]
    },
    {
     "name": "stdout",
     "output_type": "stream",
     "text": [
      "25보다 작습니다.\n"
     ]
    },
    {
     "name": "stdin",
     "output_type": "stream",
     "text": [
      "1-100 숫자 입력: 22\n"
     ]
    },
    {
     "name": "stdout",
     "output_type": "stream",
     "text": [
      "22보다 작습니다.\n"
     ]
    },
    {
     "name": "stdin",
     "output_type": "stream",
     "text": [
      "1-100 숫자 입력: 21\n"
     ]
    },
    {
     "name": "stdout",
     "output_type": "stream",
     "text": [
      "정답입니다.6회 만에 맞혔습니다.\n"
     ]
    }
   ],
   "source": [
    "import random\n",
    "\n",
    "print('1부터 100까지의 수 하나를 정했습니다.')\n",
    "print('이 숫자를 맞혀보세요.')\n",
    "\n",
    "answer = random.randint(1,100)\n",
    "times = 0\n",
    "\n",
    "while True:\n",
    "    user = int(input('1-100 숫자 입력:'))\n",
    "    times +=1\n",
    "    if user == answer:\n",
    "        break\n",
    "    elif user < answer:\n",
    "        print(f'{user}보다 큽니다.')\n",
    "    else:\n",
    "        print(f'{user}보다 작습니다.')\n",
    "\n",
    "print(f'정답입니다.{times}회 만에 맞혔습니다.')"
   ]
  },
  {
   "cell_type": "code",
   "execution_count": null,
   "id": "ac5c3451-bf30-4a47-9c8c-f5e8f88008e6",
   "metadata": {},
   "outputs": [],
   "source": [
    "과일 = [\"사과\",\"바나나\",\"딸기\"]\n",
    "과일[1] = \"키위\" \n",
    "과일.append(\"포도\")\n",
    "과일.insert(1, \"오렌지\")"
   ]
  },
  {
   "cell_type": "code",
   "execution_count": 30,
   "id": "03eda8f1-939b-4d5a-ae41-ab0ec7656d8f",
   "metadata": {},
   "outputs": [
    {
     "name": "stdout",
     "output_type": "stream",
     "text": [
      "[4, 40, 36, 44, 27, 6]\n"
     ]
    }
   ],
   "source": [
    "import random\n",
    "my_list = []\n",
    "\n",
    "for i in range(1,7):\n",
    "    num = random.randint(1, 45)\n",
    "    my_list.append(num)\n",
    "\n",
    "print(my_list)"
   ]
  },
  {
   "cell_type": "code",
   "execution_count": 31,
   "id": "b5465fb1-c845-4f96-a5e4-8403a0368925",
   "metadata": {},
   "outputs": [],
   "source": [
    "성적 = [85, 92, 78, 90, 87]\n",
    "평균 = sum(성적) / len(성적)\n",
    "\n",
    "        "
   ]
  },
  {
   "cell_type": "code",
   "execution_count": 32,
   "id": "7a394437-de31-4eb7-a0d9-c8736a0a468d",
   "metadata": {},
   "outputs": [
    {
     "data": {
      "text/plain": [
       "86.4"
      ]
     },
     "execution_count": 32,
     "metadata": {},
     "output_type": "execute_result"
    }
   ],
   "source": [
    "평균"
   ]
  },
  {
   "cell_type": "code",
   "execution_count": 35,
   "id": "70942b39-9d1f-4c84-afc2-f626cffb0fae",
   "metadata": {},
   "outputs": [
    {
     "name": "stdout",
     "output_type": "stream",
     "text": [
      "총합: 442\n",
      "평균: 88.4\n"
     ]
    }
   ],
   "source": [
    "성적 = [85, 92, 78, 90, 97]\n",
    "총합 = 0\n",
    "푱균 = 0\n",
    "for 점수 in 성적:\n",
    " 총합 += 점수\n",
    "평균 = 총합/ len(성적)\n",
    "print('총합:', 총합)\n",
    "print('평균:', 평균)"
   ]
  },
  {
   "cell_type": "code",
   "execution_count": null,
   "id": "2f991439-f429-4b11-aced-564b89cf41cf",
   "metadata": {},
   "outputs": [],
   "source": []
  },
  {
   "cell_type": "code",
   "execution_count": null,
   "id": "7321a943-6612-40e7-b85f-10f15fb5159a",
   "metadata": {},
   "outputs": [],
   "source": []
  }
 ],
 "metadata": {
  "kernelspec": {
   "display_name": "Python 3 (ipykernel)",
   "language": "python",
   "name": "python3"
  },
  "language_info": {
   "codemirror_mode": {
    "name": "ipython",
    "version": 3
   },
   "file_extension": ".py",
   "mimetype": "text/x-python",
   "name": "python",
   "nbconvert_exporter": "python",
   "pygments_lexer": "ipython3",
   "version": "3.12.6"
  }
 },
 "nbformat": 4,
 "nbformat_minor": 5
}
